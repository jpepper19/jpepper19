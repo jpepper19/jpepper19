{
  "cells": [
    {
      "cell_type": "markdown",
      "metadata": {
        "id": "4rf6kKjPVxC3"
      },
      "source": [
        "# Lab 4\n",
        "### Joshua Pepper\n",
        "\n",
        "[![Open In Colab](https://colab.research.google.com/assets/colab-badge.svg)](https://colab.research.google.com/github/giswqs/geog-510/blob/main/book/labs/lab_04.ipynb)"
      ]
    },
    {
      "cell_type": "markdown",
      "metadata": {
        "id": "vXRVVezXVxC_"
      },
      "source": [
        "## Exercise 1: Variable Assignment and Basic Operations\n",
        "\n",
        "Create variables to store the following geospatial data:\n",
        "\n",
        "- The latitude and longitude of New York City: 40.7128, -74.0060.\n",
        "- The population of New York City: 8,336,817.\n",
        "- The area of New York City in square kilometers: 783.8.\n",
        "\n",
        "Perform the following tasks:\n",
        "\n",
        "1. Calculate and print the population density of New York City (population per square kilometer).\n",
        "2. Print the coordinates in the format \"Latitude: [latitude], Longitude: [longitude]\"."
      ]
    },
    {
      "cell_type": "code",
      "execution_count": 1,
      "metadata": {
        "id": "LlThVWi_VxDB",
        "outputId": "51d7c211-cd31-42cb-9f13-e2bbb3b9203a",
        "colab": {
          "base_uri": "https://localhost:8080/"
        }
      },
      "outputs": [
        {
          "output_type": "stream",
          "name": "stdout",
          "text": [
            "Population Density: 10636.41 people per square km\n",
            "Latitude: 40.7128, Longitude: -74.006\n"
          ]
        }
      ],
      "source": [
        "latitude = 40.7128\n",
        "longitude = -74.0060\n",
        "population = 8_336_817\n",
        "area_km2 = 783.8\n",
        "\n",
        "# Calculate population density\n",
        "population_density = population / area_km2\n",
        "\n",
        "# Prints the results\n",
        "print(f\"Population Density: {population_density:.2f} people per square km\")\n",
        "print(f\"Latitude: {latitude}, Longitude: {longitude}\")"
      ]
    },
    {
      "cell_type": "markdown",
      "metadata": {
        "id": "CT1nIPlwVxDB"
      },
      "source": [
        "## Exercise 2: Working with Strings\n",
        "\n",
        "Create a string variable to store the name of a city, such as \"San Francisco\". Perform the following operations:\n",
        "\n",
        "1. Convert the string to lowercase and print the result.\n",
        "2. Convert the string to uppercase and print the result.\n",
        "3. Replace \"San\" with \"Los\" in the city name and print the new string."
      ]
    },
    {
      "cell_type": "code",
      "execution_count": 2,
      "metadata": {
        "id": "pW6CjQBnVxDD",
        "outputId": "262207ee-759c-4792-d8c8-104683947382",
        "colab": {
          "base_uri": "https://localhost:8080/"
        }
      },
      "outputs": [
        {
          "output_type": "stream",
          "name": "stdout",
          "text": [
            "san francisco\n",
            "SAN FRANCISCO\n",
            "Los Francisco\n"
          ]
        }
      ],
      "source": [
        "city = \"San Francisco\"\n",
        "\n",
        "# Convert to lowercase\n",
        "print(city.lower())\n",
        "\n",
        "# Convert to uppercase\n",
        "print(city.upper())\n",
        "\n",
        "# Replace \"San\" with \"Los\"\n",
        "new_city = city.replace(\"San\", \"Los\")\n",
        "print(new_city)"
      ]
    },
    {
      "cell_type": "markdown",
      "metadata": {
        "id": "SEon5bW1VxDD"
      },
      "source": [
        "## Exercise 3: Using Lists\n",
        "\n",
        "Create a list of tuples, where each tuple contains the name of a city and its corresponding latitude and longitude:\n",
        "\n",
        "- New York City: (40.7128, -74.0060)\n",
        "- Los Angeles: (34.0522, -118.2437)\n",
        "- Chicago: (41.8781, -87.6298)\n",
        "\n",
        "Perform the following tasks:\n",
        "\n",
        "1. Add a new city (e.g., Miami: (25.7617, -80.1918)) to the list.\n",
        "2. Print the entire list of cities.\n",
        "3. Slice the list to print only the first two cities."
      ]
    },
    {
      "cell_type": "code",
      "execution_count": 3,
      "metadata": {
        "id": "XHSvlFn8VxDE",
        "outputId": "20c41d90-a69d-48cb-a022-bb8dbbe928c8",
        "colab": {
          "base_uri": "https://localhost:8080/"
        }
      },
      "outputs": [
        {
          "output_type": "stream",
          "name": "stdout",
          "text": [
            "[('New York City', (40.7128, -74.006)), ('Los Angeles', (34.0522, -118.2437)), ('Chicago', (41.8781, -87.6298)), ('Miami', (25.7617, -80.1918))]\n",
            "[('New York City', (40.7128, -74.006)), ('Los Angeles', (34.0522, -118.2437))]\n"
          ]
        }
      ],
      "source": [
        "cities = [\n",
        "    (\"New York City\", (40.7128, -74.0060)),\n",
        "    (\"Los Angeles\", (34.0522, -118.2437)),\n",
        "    (\"Chicago\", (41.8781, -87.6298))\n",
        "]\n",
        "\n",
        "# Adds a new city\n",
        "cities.append((\"Miami\", (25.7617, -80.1918)))\n",
        "\n",
        "# Prints entire list\n",
        "print(cities)\n",
        "\n",
        "# Prints first two cities\n",
        "print(cities[:2])"
      ]
    },
    {
      "cell_type": "markdown",
      "metadata": {
        "id": "93IPymBOVxDF"
      },
      "source": [
        "## Exercise 4: Using Tuples\n",
        "\n",
        "Create a tuple to store the coordinates (latitude, longitude) of the Eiffel Tower: (48.8584, 2.2945). Perform the following tasks:\n",
        "\n",
        "1. Access and print the latitude and longitude values from the tuple.\n",
        "2. Try to change the latitude value to 48.8585. What happens? Explain why."
      ]
    },
    {
      "cell_type": "code",
      "execution_count": 4,
      "metadata": {
        "id": "8YvvQsuEVxDG",
        "outputId": "1cf4ec1f-fa37-406d-9d11-718696a7c003",
        "colab": {
          "base_uri": "https://localhost:8080/"
        }
      },
      "outputs": [
        {
          "output_type": "stream",
          "name": "stdout",
          "text": [
            "Latitude: 48.8584, Longitude: 2.2945\n",
            "Error: 'tuple' object does not support item assignment - Tuples are immutable, meaning their values cannot be changed.\n"
          ]
        }
      ],
      "source": [
        "eiffel_tower_coordinates = (48.8584, 2.2945)\n",
        "\n",
        "# Access and print latitude and longitude\n",
        "print(f\"Latitude: {eiffel_tower_coordinates[0]}, Longitude: {eiffel_tower_coordinates[1]}\")\n",
        "\n",
        "# Attempt to change latitude value\n",
        "try:\n",
        "    eiffel_tower_coordinates[0] = 48.8585\n",
        "except TypeError as e:\n",
        "    print(f\"Error: {e} - Tuples are immutable, meaning their values cannot be changed.\")"
      ]
    },
    {
      "cell_type": "markdown",
      "metadata": {
        "id": "19bmOxABVxDG"
      },
      "source": [
        "## Exercise 5: Working with Sets\n",
        "\n",
        "Create a set of countries you have visited, such as {\"USA\", \"France\", \"Germany\"}. Perform the following tasks:\n",
        "\n",
        "1. Add a new country to the set.\n",
        "2. Try to add the same country again. What happens?\n",
        "3. Print the updated set."
      ]
    },
    {
      "cell_type": "code",
      "execution_count": 5,
      "metadata": {
        "id": "T3CG0U8WVxDH",
        "outputId": "6d423393-c7c5-427c-96c4-63acb56b569a",
        "colab": {
          "base_uri": "https://localhost:8080/"
        }
      },
      "outputs": [
        {
          "output_type": "stream",
          "name": "stdout",
          "text": [
            "{'Spain', 'USA', 'France', 'Germany'}\n"
          ]
        }
      ],
      "source": [
        "visited_countries = {\"USA\", \"France\", \"Germany\"}\n",
        "\n",
        "# Add a new country\n",
        "visited_countries.add(\"Spain\")\n",
        "\n",
        "# Try adding the same country again\n",
        "visited_countries.add(\"Spain\")  # Q2. No duplicate entry should be added when working with sets.\n",
        "\n",
        "# Print updated set\n",
        "print(visited_countries)"
      ]
    },
    {
      "cell_type": "markdown",
      "metadata": {
        "id": "2mBBbWw0VxDH"
      },
      "source": [
        "## Exercise 6: Working with Dictionaries\n",
        "\n",
        "Create a dictionary to store information about a specific geospatial feature, such as a river:\n",
        "\n",
        "- Name: \"Amazon River\"\n",
        "- Length: 6400 km\n",
        "- Countries: [\"Brazil\", \"Peru\", \"Colombia\"]\n",
        "\n",
        "Perform the following tasks:\n",
        "\n",
        "1. Add a new key-value pair to the dictionary to store the river's average discharge (e.g., 209,000 m³/s).\n",
        "2. Update the length of the river to 6992 km.\n",
        "3. Print the dictionary."
      ]
    },
    {
      "cell_type": "code",
      "execution_count": 6,
      "metadata": {
        "id": "WzBvFz4vVxDI",
        "outputId": "7f5c5428-181f-4b56-c191-5fc45ca0548a",
        "colab": {
          "base_uri": "https://localhost:8080/"
        }
      },
      "outputs": [
        {
          "output_type": "stream",
          "name": "stdout",
          "text": [
            "{'Name': 'Amazon River', 'Length': 6992, 'Countries': ['Brazil', 'Peru', 'Colombia'], 'Average Discharge': 209000}\n"
          ]
        }
      ],
      "source": [
        "river = {\n",
        "    \"Name\": \"Amazon River\",\n",
        "    \"Length\": 6400,  # in km\n",
        "    \"Countries\": [\"Brazil\", \"Peru\", \"Colombia\"]\n",
        "}\n",
        "\n",
        "# Add a new key-value pair for average discharge\n",
        "river[\"Average Discharge\"] = 209000  # in m³/s\n",
        "\n",
        "# Update the length of the river\n",
        "river[\"Length\"] = 6992\n",
        "\n",
        "# Print the updated dictionary\n",
        "print(river)"
      ]
    },
    {
      "cell_type": "markdown",
      "metadata": {
        "id": "_1OD-5A6VxDJ"
      },
      "source": [
        "## Exercise 7: Nested Data Structures\n",
        "\n",
        "Create a dictionary to represent a city that contains the city's name, population, and coordinates (latitude, longitude):\n",
        "\n",
        "- Name: \"Tokyo\"\n",
        "- Population: 13,515,271\n",
        "- Coordinates: (35.6895, 139.6917)\n",
        "\n",
        "Perform the following tasks:\n",
        "\n",
        "1. Access and print the population of the city.\n",
        "2. Access and print the city's latitude.\n",
        "3. Update the population to 14,000,000 and print the updated dictionary."
      ]
    },
    {
      "cell_type": "code",
      "execution_count": 7,
      "metadata": {
        "id": "Wl7HveZ8VxDJ",
        "outputId": "3752bba8-414f-45f9-a090-fafee4521573",
        "colab": {
          "base_uri": "https://localhost:8080/"
        }
      },
      "outputs": [
        {
          "output_type": "stream",
          "name": "stdout",
          "text": [
            "Population: 13515271\n",
            "Latitude: 35.6895\n",
            "{'Name': 'Tokyo', 'Population': 14000000, 'Coordinates': (35.6895, 139.6917)}\n"
          ]
        }
      ],
      "source": [
        "city_info = {\n",
        "    \"Name\": \"Tokyo\",\n",
        "    \"Population\": 13_515_271,\n",
        "    \"Coordinates\": (35.6895, 139.6917)\n",
        "}\n",
        "\n",
        "# Access and print the population\n",
        "print(\"Population:\", city_info[\"Population\"])\n",
        "\n",
        "# Access and print the latitude\n",
        "print(\"Latitude:\", city_info[\"Coordinates\"][0])\n",
        "\n",
        "# Update the population\n",
        "city_info[\"Population\"] = 14_000_000\n",
        "\n",
        "# Print the updated dictionary\n",
        "print(city_info)"
      ]
    },
    {
      "cell_type": "markdown",
      "metadata": {
        "id": "eYVgNxE_VxDJ"
      },
      "source": [
        "## Exercise 8: List Operations\n",
        "\n",
        "Given the list of cities from Exercise 3, perform the following operations:\n",
        "\n",
        "1. Sort the list of cities alphabetically by name.\n",
        "2. Create a new list that contains only the city names.\n",
        "3. Remove the last city from the original list and print the updated list."
      ]
    },
    {
      "cell_type": "code",
      "execution_count": 8,
      "metadata": {
        "id": "IR962rRQVxDK",
        "outputId": "1cb125e1-e200-4937-9598-1103343c7652",
        "colab": {
          "base_uri": "https://localhost:8080/"
        }
      },
      "outputs": [
        {
          "output_type": "stream",
          "name": "stdout",
          "text": [
            "Sorted city list: [('Chicago', (41.8781, -87.6298)), ('Los Angeles', (34.0522, -118.2437)), ('Miami', (25.7617, -80.1918))]\n",
            "City names: ['Chicago', 'Los Angeles', 'Miami', 'New York City']\n",
            "Updated city list: [('Chicago', (41.8781, -87.6298)), ('Los Angeles', (34.0522, -118.2437)), ('Miami', (25.7617, -80.1918))]\n"
          ]
        }
      ],
      "source": [
        "cities = [\n",
        "    (\"New York City\", (40.7128, -74.0060)),\n",
        "    (\"Los Angeles\", (34.0522, -118.2437)),\n",
        "    (\"Chicago\", (41.8781, -87.6298)),\n",
        "    (\"Miami\", (25.7617, -80.1918))\n",
        "]\n",
        "\n",
        "# Sort the list alphabetically by city name\n",
        "cities.sort(key=lambda x: x[0])\n",
        "\n",
        "# Create a new list with only city names\n",
        "city_names = [city[0] for city in cities]\n",
        "\n",
        "# Remove the last city from the original list\n",
        "cities.pop()\n",
        "\n",
        "# Print the results\n",
        "print(\"Sorted city list:\", cities)\n",
        "print(\"City names:\", city_names)\n",
        "print(\"Updated city list:\", cities)"
      ]
    },
    {
      "cell_type": "markdown",
      "metadata": {
        "id": "9LZ_gYNnVxDK"
      },
      "source": [
        "## Exercise 9: Dictionary Operations\n",
        "\n",
        "Using the dictionary from Exercise 6, perform the following tasks:\n",
        "\n",
        "1. Check if the key \"Length\" exists in the dictionary.\n",
        "2. Print all the keys in the dictionary.\n",
        "3. Print all the values in the dictionary."
      ]
    },
    {
      "cell_type": "code",
      "execution_count": 9,
      "metadata": {
        "id": "iBGjw8G8VxDK",
        "outputId": "d5423cb4-7b26-4701-d852-42824016b96a",
        "colab": {
          "base_uri": "https://localhost:8080/"
        }
      },
      "outputs": [
        {
          "output_type": "stream",
          "name": "stdout",
          "text": [
            "Length exists: True\n",
            "Keys: dict_keys(['Name', 'Length', 'Countries', 'Average Discharge'])\n",
            "Values: dict_values(['Amazon River', 6992, ['Brazil', 'Peru', 'Colombia'], 209000])\n"
          ]
        }
      ],
      "source": [
        "river = {\n",
        "    \"Name\": \"Amazon River\",\n",
        "    \"Length\": 6992,  # Updated length\n",
        "    \"Countries\": [\"Brazil\", \"Peru\", \"Colombia\"],\n",
        "    \"Average Discharge\": 209000  # in m³/s\n",
        "}\n",
        "\n",
        "# Check if \"Length\" exists in the dictionary\n",
        "print(\"Length exists:\", \"Length\" in river)\n",
        "\n",
        "# Print all keys in the dictionary\n",
        "print(\"Keys:\", river.keys())\n",
        "\n",
        "# Print all values in the dictionary\n",
        "print(\"Values:\", river.values())"
      ]
    },
    {
      "cell_type": "markdown",
      "metadata": {
        "id": "rPoN_YEbVxDL"
      },
      "source": [
        "## Exercise 10: Practical Application\n",
        "\n",
        "Imagine you have a list of tuples, each representing a location with its name, latitude, and longitude:"
      ]
    },
    {
      "cell_type": "code",
      "execution_count": 10,
      "metadata": {
        "id": "NG3SEginVxDL"
      },
      "outputs": [],
      "source": [
        "locations = [\n",
        "    (\"Mount Everest\", 27.9881, 86.9250),\n",
        "    (\"K2\", 35.8808, 76.5155),\n",
        "    (\"Kangchenjunga\", 27.7025, 88.1475),\n",
        "]"
      ]
    },
    {
      "cell_type": "code",
      "source": [
        "locations = [\n",
        "    (\"Mount Everest\", 27.9881, 86.9250),\n",
        "    (\"K2\", 35.8808, 76.5155),\n",
        "    (\"Kangchenjunga\", 27.7025, 88.1475),\n",
        "]\n",
        "\n",
        "# Create a list of location names\n",
        "location_names = [location[0] for location in locations]\n",
        "\n",
        "# Create a dictionary mapping location names to coordinates\n",
        "location_dict = {location[0]: (location[1], location[2]) for location in locations}\n",
        "\n",
        "# Print the latitude of \"K2\"\n",
        "print(\"Latitude of K2:\", location_dict[\"K2\"][0])"
      ],
      "metadata": {
        "id": "m5eu7ByomDAV",
        "outputId": "4d0f8a2b-68bf-47e6-f420-1679cf042983",
        "colab": {
          "base_uri": "https://localhost:8080/"
        }
      },
      "execution_count": 11,
      "outputs": [
        {
          "output_type": "stream",
          "name": "stdout",
          "text": [
            "Latitude of K2: 35.8808\n"
          ]
        }
      ]
    },
    {
      "cell_type": "markdown",
      "metadata": {
        "id": "ts7VCx9NVxDN"
      },
      "source": [
        "Perform the following tasks:\n",
        "\n",
        "1. Create a new list that contains only the names of the locations.\n",
        "2. Create a dictionary where the keys are location names and the values are tuples of their coordinates.\n",
        "3. Print the latitude of \"K2\" using the dictionary."
      ]
    },
    {
      "cell_type": "markdown",
      "metadata": {
        "id": "ia9qXF5RVxDO"
      },
      "source": [
        "## Exercise 11: Manipulating Geographic Location Strings\n",
        "\n",
        "- Create a string that represents the name of a geographic feature (e.g., `\"Amazon River\"`).\n",
        "- Convert the string to lowercase and then to uppercase.\n",
        "- Concatenate the string with the name of the country (e.g., `\"Brazil\"`) to create a full location name.\n",
        "- Repeat the string three times, separating each repetition with a dash (`-`)."
      ]
    },
    {
      "cell_type": "code",
      "execution_count": 12,
      "metadata": {
        "id": "sQMtT4L5VxDO",
        "outputId": "e5aede52-6362-4769-a3eb-7756b3a85eaa",
        "colab": {
          "base_uri": "https://localhost:8080/"
        }
      },
      "outputs": [
        {
          "output_type": "stream",
          "name": "stdout",
          "text": [
            "amazon river\n",
            "AMAZON RIVER\n",
            "Amazon River, Brazil\n",
            "Amazon River - Amazon River - Amazon River\n"
          ]
        }
      ],
      "source": [
        "geo_feature = \"Amazon River\"\n",
        "\n",
        "# Convert to lowercase and uppercase\n",
        "lower_case = geo_feature.lower()\n",
        "upper_case = geo_feature.upper()\n",
        "\n",
        "# Concatenate with a country name\n",
        "full_location = geo_feature + \", Brazil\"\n",
        "\n",
        "# Repeat three times with a dash separator\n",
        "repeated_feature = (geo_feature + \" - \") * 2 + geo_feature\n",
        "\n",
        "# Print results\n",
        "print(lower_case)\n",
        "print(upper_case)\n",
        "print(full_location)\n",
        "print(repeated_feature)"
      ]
    },
    {
      "cell_type": "markdown",
      "metadata": {
        "id": "JXi_LNDsVxDO"
      },
      "source": [
        "## Exercise 12: Extracting and Formatting Coordinates\n",
        "\n",
        "- Given a string with the format `\"latitude, longitude\"` (e.g., `\"40.7128N, 74.0060W\"`), extract the numeric values of latitude and longitude.\n",
        "- Convert these values to floats and remove the directional indicators (`N`, `S`, `E`, `W`).\n",
        "- Format the coordinates into a `POINT` WKT string (e.g., `\"POINT(-74.0060 40.7128)\"`)."
      ]
    },
    {
      "cell_type": "code",
      "execution_count": 13,
      "metadata": {
        "id": "u2tyhJa7VxDP",
        "outputId": "5a5e70fa-3965-433a-f779-7dbb61e39dc5",
        "colab": {
          "base_uri": "https://localhost:8080/"
        }
      },
      "outputs": [
        {
          "output_type": "stream",
          "name": "stdout",
          "text": [
            "POINT(-74.006 40.7128)\n"
          ]
        }
      ],
      "source": [
        "import re\n",
        "\n",
        "# Given coordinate string\n",
        "coordinate_str = \"40.7128N, 74.0060W\"\n",
        "\n",
        "# Extract numeric values and remove directional indicators\n",
        "latitude, longitude = re.findall(r\"[-+]?\\d*\\.\\d+|\\d+\", coordinate_str)\n",
        "latitude, longitude = float(latitude), -float(longitude)  # West is negative\n",
        "\n",
        "# Format into WKT POINT string\n",
        "wkt_point = f\"POINT({longitude} {latitude})\"\n",
        "\n",
        "# Print result\n",
        "print(wkt_point)"
      ]
    },
    {
      "cell_type": "markdown",
      "metadata": {
        "id": "Iui8RN80VxDP"
      },
      "source": [
        "## Exercise 13: Building Dynamic SQL Queries\n",
        "\n",
        "- Given a table name and a condition, dynamically build an SQL query string.\n",
        "- Example: If `table_name = \"cities\"` and `condition = \"population > 1000000\"`, the query should be `\"SELECT * FROM cities WHERE population > 1000000;\"`.\n",
        "- Add additional conditions dynamically, like `AND` clauses."
      ]
    },
    {
      "cell_type": "code",
      "execution_count": 14,
      "metadata": {
        "id": "MlcT7X-OVxDP",
        "outputId": "3d67e289-88f6-4d6b-c0f5-f202e781b590",
        "colab": {
          "base_uri": "https://localhost:8080/"
        }
      },
      "outputs": [
        {
          "output_type": "stream",
          "name": "stdout",
          "text": [
            "SELECT * FROM cities WHERE population > 1000000 AND area > 500;\n"
          ]
        }
      ],
      "source": [
        "def build_sql_query(table_name, conditions):\n",
        "    query = f\"SELECT * FROM {table_name} WHERE \" + \" AND \".join(conditions) + \";\"\n",
        "    return query\n",
        "\n",
        "# Example usage\n",
        "table = \"cities\"\n",
        "conditions = [\"population > 1000000\", \"area > 500\"]\n",
        "\n",
        "sql_query = build_sql_query(table, conditions)\n",
        "print(sql_query)"
      ]
    },
    {
      "cell_type": "markdown",
      "metadata": {
        "id": "SbVvjD3nVxDP"
      },
      "source": [
        "## Exercise 14: String Normalization and Cleaning\n",
        "\n",
        "- Given a list of city names with inconsistent formatting (e.g., `[\" new york \", \"Los ANGELES\", \"   CHICAGO\"]`), normalize the names by:\n",
        "  - Stripping any leading or trailing whitespace.\n",
        "  - Converting them to title case (e.g., `\"New York\"`, `\"Los Angeles\"`, `\"Chicago\"`).\n",
        "- Ensure that the output is a clean list of city names."
      ]
    },
    {
      "cell_type": "code",
      "execution_count": 15,
      "metadata": {
        "id": "9NBI0Rh3VxDQ",
        "outputId": "699adef6-fbb0-45b4-bcfb-965cc8690e45",
        "colab": {
          "base_uri": "https://localhost:8080/"
        }
      },
      "outputs": [
        {
          "output_type": "stream",
          "name": "stdout",
          "text": [
            "['New York', 'Los Angeles', 'Chicago']\n"
          ]
        }
      ],
      "source": [
        "cities = [\" new york \", \"Los ANGELES\", \" CHICAGO\"]\n",
        "\n",
        "# Normalize names\n",
        "cleaned_cities = [city.strip().title() for city in cities]\n",
        "\n",
        "# Print result\n",
        "print(cleaned_cities)"
      ]
    },
    {
      "cell_type": "markdown",
      "metadata": {
        "id": "la0am6G0VxDQ"
      },
      "source": [
        "## Exercise 15: Parsing and Extracting Address Information\n",
        "\n",
        "- Given a string in the format `\"Street, City, Country\"` (e.g., `\"123 Main St, Springfield, USA\"`), write a function that parses the string into a dictionary with keys `street`, `city`, and `country`.\n",
        "- The function should return a dictionary like `{\"street\": \"123 Main St\", \"city\": \"Springfield\", \"country\": \"USA\"}`."
      ]
    },
    {
      "cell_type": "code",
      "execution_count": 16,
      "metadata": {
        "id": "3ARVGS66VxDQ",
        "outputId": "5f817c7e-71de-4d0a-8f62-6e5babfa36f4",
        "colab": {
          "base_uri": "https://localhost:8080/"
        }
      },
      "outputs": [
        {
          "output_type": "stream",
          "name": "stdout",
          "text": [
            "{'street': '123 Main St', 'city': 'Springfield', 'country': 'USA'}\n"
          ]
        }
      ],
      "source": [
        "def parse_address(address):\n",
        "    parts = [part.strip() for part in address.split(\",\")]\n",
        "    return {\"street\": parts[0], \"city\": parts[1], \"country\": parts[2]}\n",
        "\n",
        "# Example usage\n",
        "address = \"123 Main St, Springfield, USA\"\n",
        "parsed_address = parse_address(address)\n",
        "print(parsed_address)"
      ]
    },
    {
      "cell_type": "markdown",
      "metadata": {
        "id": "RJMKQ0tJVxDQ"
      },
      "source": [
        "## Exercise 16: Using For Loops to Process Coordinate Lists\n",
        "\n",
        "- Create a list of tuples representing coordinates (latitude, longitude).\n",
        "- Write a `for` loop that prints each coordinate and indicates whether it is in the Northern or Southern Hemisphere based on the latitude."
      ]
    },
    {
      "cell_type": "code",
      "execution_count": 17,
      "metadata": {
        "id": "2UPAT0bNVxDR",
        "outputId": "57de9421-f547-45eb-d434-2eb1bd8dff29",
        "colab": {
          "base_uri": "https://localhost:8080/"
        }
      },
      "outputs": [
        {
          "output_type": "stream",
          "name": "stdout",
          "text": [
            "Coordinate: (34.0522, -118.2437) - Northern Hemisphere\n",
            "Coordinate: (-33.8688, 151.2093) - Southern Hemisphere\n",
            "Coordinate: (51.5074, -0.1278) - Northern Hemisphere\n"
          ]
        }
      ],
      "source": [
        "coordinates = [(34.0522, -118.2437), (-33.8688, 151.2093), (51.5074, -0.1278)]\n",
        "\n",
        "# Loop through coordinates\n",
        "for lat, lon in coordinates:\n",
        "    hemisphere = \"Northern\" if lat >= 0 else \"Southern\"\n",
        "    print(f\"Coordinate: ({lat}, {lon}) - {hemisphere} Hemisphere\")"
      ]
    },
    {
      "cell_type": "markdown",
      "metadata": {
        "id": "gxz_19_gVxDR"
      },
      "source": [
        "## Exercise 17: While Loops for Iterative Processing\n",
        "\n",
        "- Create a list of coordinates (latitude, longitude).\n",
        "- Write a `while` loop that continues to print each coordinate until it encounters a coordinate with a negative latitude.\n",
        "- Stop the loop once this condition is met."
      ]
    },
    {
      "cell_type": "code",
      "execution_count": 18,
      "metadata": {
        "id": "JwXcYbr9VxDR",
        "outputId": "53239f61-7275-4769-ab25-2e4f44592a45",
        "colab": {
          "base_uri": "https://localhost:8080/"
        }
      },
      "outputs": [
        {
          "output_type": "stream",
          "name": "stdout",
          "text": [
            "Coordinate: (34.0522, -118.2437)\n",
            "Coordinate: (51.5074, -0.1278)\n"
          ]
        }
      ],
      "source": [
        "coordinates = [(34.0522, -118.2437), (51.5074, -0.1278), (-33.8688, 151.2093), (48.8566, 2.3522)]\n",
        "\n",
        "# While loop until negative latitude is encountered\n",
        "index = 0\n",
        "while index < len(coordinates):\n",
        "    lat, lon = coordinates[index]\n",
        "    if lat < 0:\n",
        "        break\n",
        "    print(f\"Coordinate: ({lat}, {lon})\")\n",
        "    index += 1"
      ]
    },
    {
      "cell_type": "markdown",
      "metadata": {
        "id": "CPmJARf8VxDR"
      },
      "source": [
        "## Exercise 18: Conditional Logic in Loops\n",
        "\n",
        "- Create a list of coordinates and use a `for` loop to iterate over them.\n",
        "- Use an `if-elif-else` statement inside the loop to classify each coordinate based on its longitude:\n",
        "  - Print `\"Eastern Hemisphere\"` if the longitude is greater than 0.\n",
        "  - Print `\"Western Hemisphere\"` if the longitude is less than 0."
      ]
    },
    {
      "cell_type": "code",
      "execution_count": 19,
      "metadata": {
        "id": "CpqBus1IVxDS",
        "outputId": "f1d98767-2f51-473c-ce92-52113be9024a",
        "colab": {
          "base_uri": "https://localhost:8080/"
        }
      },
      "outputs": [
        {
          "output_type": "stream",
          "name": "stdout",
          "text": [
            "Coordinate: (34.0522, -118.2437) - Western Hemisphere\n",
            "Coordinate: (51.5074, -0.1278) - Western Hemisphere\n",
            "Coordinate: (-33.8688, 151.2093) - Eastern Hemisphere\n"
          ]
        }
      ],
      "source": [
        "coordinates = [(34.0522, -118.2437), (51.5074, -0.1278), (-33.8688, 151.2093)]\n",
        "\n",
        "# Loop through and classify based on longitude\n",
        "for lat, lon in coordinates:\n",
        "    if lon > 0:\n",
        "        print(f\"Coordinate: ({lat}, {lon}) - Eastern Hemisphere\")\n",
        "    elif lon < 0:\n",
        "        print(f\"Coordinate: ({lat}, {lon}) - Western Hemisphere\")\n",
        "    else:\n",
        "        print(f\"Coordinate: ({lat}, {lon}) - Prime Meridian\")"
      ]
    },
    {
      "cell_type": "markdown",
      "metadata": {
        "id": "yktixWwgVxDb"
      },
      "source": [
        "## Exercise 19: Filtering Data with Combined Loops and Conditionals\n",
        "\n",
        "- Given a list of coordinates, filter out and store only those located in the Southern Hemisphere (latitude < 0).\n",
        "- Count the number of coordinates that meet this condition and print the result."
      ]
    },
    {
      "cell_type": "code",
      "execution_count": 20,
      "metadata": {
        "id": "p4L5jhY5VxDc",
        "outputId": "2a0b7cab-83ab-4bcd-cdb1-d8212bad04e7",
        "colab": {
          "base_uri": "https://localhost:8080/"
        }
      },
      "outputs": [
        {
          "output_type": "stream",
          "name": "stdout",
          "text": [
            "Southern Hemisphere coordinates: [(-33.8688, 151.2093), (-22.9068, -43.1729)]\n",
            "Count: 2\n"
          ]
        }
      ],
      "source": [
        "coordinates = [(34.0522, -118.2437), (-33.8688, 151.2093), (-22.9068, -43.1729), (51.5074, -0.1278)]\n",
        "\n",
        "# Filter for Southern Hemisphere\n",
        "southern_hemisphere = [coord for coord in coordinates if coord[0] < 0]\n",
        "\n",
        "# Count and print result\n",
        "print(f\"Southern Hemisphere coordinates: {southern_hemisphere}\")\n",
        "print(f\"Count: {len(southern_hemisphere)}\")"
      ]
    },
    {
      "cell_type": "markdown",
      "metadata": {
        "id": "o6FwXmC4VxDc"
      },
      "source": [
        "## Exercise 20: Generating and Analyzing Random Coordinates\n",
        "\n",
        "- Write a program that generates random coordinates (latitude between [-90, 90] degrees and longitude between [-180, 180] degrees).\n",
        "- Use a `while` loop to keep generating coordinates until a pair with both latitude and longitude greater than 50 is generated.\n",
        "- Print each generated coordinate and the final coordinate that meets the condition."
      ]
    },
    {
      "cell_type": "code",
      "execution_count": 21,
      "metadata": {
        "id": "PNz48JlIVxDc",
        "outputId": "30a9bfe5-e418-45e6-e8a5-c952571a4ec9",
        "colab": {
          "base_uri": "https://localhost:8080/"
        }
      },
      "outputs": [
        {
          "output_type": "stream",
          "name": "stdout",
          "text": [
            "Generated coordinate: (-7.59786549035438, 167.1144211786161)\n",
            "Generated coordinate: (31.801596840271344, -31.636013783307305)\n",
            "Generated coordinate: (-29.1846354158767, -114.98077211855176)\n",
            "Generated coordinate: (-38.99089792667317, -25.86189309938149)\n",
            "Generated coordinate: (66.42727759782267, 151.00114354554387)\n",
            "Final coordinate meeting condition: (66.42727759782267, 151.00114354554387)\n"
          ]
        }
      ],
      "source": [
        "import random\n",
        "\n",
        "# Generate random coordinates until one meets the condition\n",
        "while True:\n",
        "    lat = random.uniform(-90, 90)\n",
        "    lon = random.uniform(-180, 180)\n",
        "    print(f\"Generated coordinate: ({lat}, {lon})\")\n",
        "\n",
        "    if lat > 50 and lon > 50:\n",
        "        print(f\"Final coordinate meeting condition: ({lat}, {lon})\")\n",
        "        break"
      ]
    },
    {
      "cell_type": "markdown",
      "metadata": {
        "id": "78Mu3JjTVxDc"
      },
      "source": [
        "## Submission Requirements\n",
        "\n",
        "Complete the exercises above and and upload the notebook to your GitHub repository. Make sure the notebook has a Colab badge at the top so that it can be easily opened in Google Colab. Submit the URL of the notebook to Canvas."
      ]
    }
  ],
  "metadata": {
    "kernelspec": {
      "display_name": "Python 3 (ipykernel)",
      "language": "python",
      "name": "python3"
    },
    "language_info": {
      "codemirror_mode": {
        "name": "ipython",
        "version": 3
      },
      "file_extension": ".py",
      "mimetype": "text/x-python",
      "name": "python",
      "nbconvert_exporter": "python",
      "pygments_lexer": "ipython3",
      "version": "3.12.2"
    },
    "colab": {
      "provenance": []
    }
  },
  "nbformat": 4,
  "nbformat_minor": 0
}